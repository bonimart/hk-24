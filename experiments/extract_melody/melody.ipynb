{
 "cells": [
  {
   "cell_type": "code",
   "execution_count": 5,
   "metadata": {},
   "outputs": [
    {
     "name": "stdout",
     "output_type": "stream",
     "text": [
      "[{'frequency': 207.20628, 'start_time': 0.06965986394557823, 'duration': 1.253877551020408}, {'frequency': 311.67514, 'start_time': 1.3235374149659864, 'duration': 0.20897959183673476}, {'frequency': 311.66437, 'start_time': 1.5325170068027212, 'duration': 0.20897959183673454}, {'frequency': 311.6623, 'start_time': 1.7414965986394557, 'duration': 1.6950566893424035}, {'frequency': 311.66287, 'start_time': 3.436553287981859, 'duration': 0.8823582766439908}, {'frequency': 311.66455, 'start_time': 4.31891156462585, 'duration': 0.6269387755102045}, {'frequency': 311.6623, 'start_time': 4.9458503401360545, 'duration': 0.20897959183673454}, {'frequency': 311.6648, 'start_time': 5.154829931972789, 'duration': 0.8823582766439912}, {'frequency': 311.66202, 'start_time': 6.03718820861678, 'duration': 0.8244444444444445}]\n"
     ]
    }
   ],
   "source": [
    "import librosa\n",
    "\n",
    "def extract_melody_info_from_wav(wav_file):\n",
    "    # Load the WAV file and extract the melody\n",
    "    y, sr = librosa.load(wav_file)\n",
    "    pitches, magnitudes = librosa.piptrack(y=y, sr=sr)\n",
    "\n",
    "    # Get the most prominent pitch for each frame\n",
    "    melody = []\n",
    "    for frame in range(pitches.shape[1]):\n",
    "        index = magnitudes[:, frame].argmax()\n",
    "        frequency = pitches[index, frame]\n",
    "        melody.append(frequency)\n",
    "\n",
    "    # Calculate note onset and offset times\n",
    "    onset_frames = librosa.onset.onset_detect(y=y, sr=sr)\n",
    "    onset_times = librosa.frames_to_time(onset_frames, sr=sr)\n",
    "    duration = librosa.get_duration(y=y, sr=sr)\n",
    "\n",
    "    # Calculate duration of each note\n",
    "    note_durations = [onset_times[i + 1] - onset_times[i] for i in range(len(onset_times) - 1)]\n",
    "    note_durations.append(duration - onset_times[-1])\n",
    "\n",
    "    # Prepare list of dictionaries containing frequency, start time, and duration\n",
    "    melody_info = []\n",
    "    min_length = min(len(melody), len(onset_times))\n",
    "    for i in range(min_length):\n",
    "        freq = melody[i]\n",
    "        if freq != 0:  # Only include non-silent notes\n",
    "            note_info = {\n",
    "                \"frequency\": freq,\n",
    "                \"start_time\": onset_times[i],\n",
    "                \"duration\": note_durations[i]\n",
    "            }\n",
    "            melody_info.append(note_info)\n",
    "\n",
    "    return melody_info\n",
    "\n",
    "# Example usage:\n",
    "input_wav = \"melody.wav\"\n",
    "melody_info = extract_melody_info_from_wav(input_wav)\n",
    "print(melody_info)\n"
   ]
  }
 ],
 "metadata": {
  "kernelspec": {
   "display_name": "base",
   "language": "python",
   "name": "python3"
  },
  "language_info": {
   "codemirror_mode": {
    "name": "ipython",
    "version": 3
   },
   "file_extension": ".py",
   "mimetype": "text/x-python",
   "name": "python",
   "nbconvert_exporter": "python",
   "pygments_lexer": "ipython3",
   "version": "3.11.5"
  }
 },
 "nbformat": 4,
 "nbformat_minor": 2
}
